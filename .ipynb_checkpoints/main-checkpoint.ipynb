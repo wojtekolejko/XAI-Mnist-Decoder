{
 "cells": [
  {
   "cell_type": "code",
   "execution_count": 2,
   "id": "e55123b6-0a6e-41d4-807d-199c41395f2b",
   "metadata": {},
   "outputs": [
    {
     "name": "stderr",
     "output_type": "stream",
     "text": [
      "2024-12-31 18:43:06.277761: I external/local_tsl/tsl/cuda/cudart_stub.cc:32] Could not find cuda drivers on your machine, GPU will not be used.\n",
      "2024-12-31 18:43:06.341487: I external/local_tsl/tsl/cuda/cudart_stub.cc:32] Could not find cuda drivers on your machine, GPU will not be used.\n",
      "2024-12-31 18:43:06.588838: I tensorflow/core/platform/cpu_feature_guard.cc:210] This TensorFlow binary is optimized to use available CPU instructions in performance-critical operations.\n",
      "To enable the following instructions: AVX2 FMA, in other operations, rebuild TensorFlow with the appropriate compiler flags.\n",
      "2024-12-31 18:43:07.803073: W tensorflow/compiler/tf2tensorrt/utils/py_utils.cc:38] TF-TRT Warning: Could not find TensorRT\n"
     ]
    }
   ],
   "source": [
    "import os\n",
    "import numpy as np\n",
    "import tensorflow as tf\n",
    "import keras\n",
    "from IPython.display import Image, display\n",
    "import matplotlib as mpl\n",
    "import matplotlib.pyplot as plt\n",
    "from keras import layers\n",
    "import sys,os\n",
    "import numpy\n",
    "from typing import List\n",
    "sys.path.append(os.getcwd())"
   ]
  },
  {
   "cell_type": "markdown",
   "id": "1474add9-d03c-412c-81f6-54394543af75",
   "metadata": {},
   "source": [
    "## The Model for the identification of the Mnist Handwritten Numbers Dataset"
   ]
  },
  {
   "cell_type": "markdown",
   "id": "518446ae-5f54-4d2e-ac8b-7f9ada339a6f",
   "metadata": {},
   "source": [
    "### The creating the convolutional Model"
   ]
  },
  {
   "cell_type": "code",
   "execution_count": 3,
   "id": "adad3dcb-f096-414e-8847-014e61c41ea0",
   "metadata": {},
   "outputs": [],
   "source": [
    "#preparing the data\n",
    "num_classes = 10\n",
    "input_shape = (28,28,1)\n",
    "(x_train, y_train), (x_test, y_test) = keras.datasets.mnist.load_data()\n",
    "x_train = x_train.astype(\"float32\") / 255\n",
    "x_test = x_test.astype(\"float32\") / 255\n",
    "\n",
    "x_train = np.expand_dims(x_train, -1)\n",
    "x_test = np.expand_dims(x_test, -1)\n",
    "\n",
    "# convert class vectors to binary class matrices\n",
    "y_train = keras.utils.to_categorical(y_train, num_classes)\n",
    "y_test = keras.utils.to_categorical(y_test, num_classes)"
   ]
  },
  {
   "cell_type": "code",
   "execution_count": 8,
   "id": "825c3672",
   "metadata": {},
   "outputs": [
    {
     "data": {
      "text/html": [
       "<pre style=\"white-space:pre;overflow-x:auto;line-height:normal;font-family:Menlo,'DejaVu Sans Mono',consolas,'Courier New',monospace\"><span style=\"font-weight: bold\">Model: \"model\"</span>\n",
       "</pre>\n"
      ],
      "text/plain": [
       "\u001b[1mModel: \"model\"\u001b[0m\n"
      ]
     },
     "metadata": {},
     "output_type": "display_data"
    },
    {
     "data": {
      "text/html": [
       "<pre style=\"white-space:pre;overflow-x:auto;line-height:normal;font-family:Menlo,'DejaVu Sans Mono',consolas,'Courier New',monospace\">┏━━━━━━━━━━━━━━━━━━━━━━━━━━━━━━━━━┳━━━━━━━━━━━━━━━━━━━━━━━━┳━━━━━━━━━━━━━━━┓\n",
       "┃<span style=\"font-weight: bold\"> Layer (type)                    </span>┃<span style=\"font-weight: bold\"> Output Shape           </span>┃<span style=\"font-weight: bold\">       Param # </span>┃\n",
       "┡━━━━━━━━━━━━━━━━━━━━━━━━━━━━━━━━━╇━━━━━━━━━━━━━━━━━━━━━━━━╇━━━━━━━━━━━━━━━┩\n",
       "│ conv2d_2 (<span style=\"color: #0087ff; text-decoration-color: #0087ff\">Conv2D</span>)               │ (<span style=\"color: #00d7ff; text-decoration-color: #00d7ff\">None</span>, <span style=\"color: #00af00; text-decoration-color: #00af00\">26</span>, <span style=\"color: #00af00; text-decoration-color: #00af00\">26</span>, <span style=\"color: #00af00; text-decoration-color: #00af00\">32</span>)     │           <span style=\"color: #00af00; text-decoration-color: #00af00\">320</span> │\n",
       "├─────────────────────────────────┼────────────────────────┼───────────────┤\n",
       "│ batch_normalization_2           │ (<span style=\"color: #00d7ff; text-decoration-color: #00d7ff\">None</span>, <span style=\"color: #00af00; text-decoration-color: #00af00\">26</span>, <span style=\"color: #00af00; text-decoration-color: #00af00\">26</span>, <span style=\"color: #00af00; text-decoration-color: #00af00\">32</span>)     │           <span style=\"color: #00af00; text-decoration-color: #00af00\">128</span> │\n",
       "│ (<span style=\"color: #0087ff; text-decoration-color: #0087ff\">BatchNormalization</span>)            │                        │               │\n",
       "├─────────────────────────────────┼────────────────────────┼───────────────┤\n",
       "│ last_conv (<span style=\"color: #0087ff; text-decoration-color: #0087ff\">Conv2D</span>)              │ (<span style=\"color: #00d7ff; text-decoration-color: #00d7ff\">None</span>, <span style=\"color: #00af00; text-decoration-color: #00af00\">24</span>, <span style=\"color: #00af00; text-decoration-color: #00af00\">24</span>, <span style=\"color: #00af00; text-decoration-color: #00af00\">64</span>)     │        <span style=\"color: #00af00; text-decoration-color: #00af00\">18,496</span> │\n",
       "├─────────────────────────────────┼────────────────────────┼───────────────┤\n",
       "│ avgpool (<span style=\"color: #0087ff; text-decoration-color: #0087ff\">AveragePooling2D</span>)      │ (<span style=\"color: #00d7ff; text-decoration-color: #00d7ff\">None</span>, <span style=\"color: #00af00; text-decoration-color: #00af00\">12</span>, <span style=\"color: #00af00; text-decoration-color: #00af00\">12</span>, <span style=\"color: #00af00; text-decoration-color: #00af00\">64</span>)     │             <span style=\"color: #00af00; text-decoration-color: #00af00\">0</span> │\n",
       "├─────────────────────────────────┼────────────────────────┼───────────────┤\n",
       "│ flatten (<span style=\"color: #0087ff; text-decoration-color: #0087ff\">Flatten</span>)               │ (<span style=\"color: #00d7ff; text-decoration-color: #00d7ff\">None</span>, <span style=\"color: #00af00; text-decoration-color: #00af00\">9216</span>)           │             <span style=\"color: #00af00; text-decoration-color: #00af00\">0</span> │\n",
       "├─────────────────────────────────┼────────────────────────┼───────────────┤\n",
       "│ dropout (<span style=\"color: #0087ff; text-decoration-color: #0087ff\">Dropout</span>)               │ (<span style=\"color: #00d7ff; text-decoration-color: #00d7ff\">None</span>, <span style=\"color: #00af00; text-decoration-color: #00af00\">9216</span>)           │             <span style=\"color: #00af00; text-decoration-color: #00af00\">0</span> │\n",
       "├─────────────────────────────────┼────────────────────────┼───────────────┤\n",
       "│ dense (<span style=\"color: #0087ff; text-decoration-color: #0087ff\">Dense</span>)                   │ (<span style=\"color: #00d7ff; text-decoration-color: #00d7ff\">None</span>, <span style=\"color: #00af00; text-decoration-color: #00af00\">10</span>)             │        <span style=\"color: #00af00; text-decoration-color: #00af00\">92,170</span> │\n",
       "├─────────────────────────────────┼────────────────────────┼───────────────┤\n",
       "│ softmax (<span style=\"color: #0087ff; text-decoration-color: #0087ff\">Activation</span>)            │ (<span style=\"color: #00d7ff; text-decoration-color: #00d7ff\">None</span>, <span style=\"color: #00af00; text-decoration-color: #00af00\">10</span>)             │             <span style=\"color: #00af00; text-decoration-color: #00af00\">0</span> │\n",
       "└─────────────────────────────────┴────────────────────────┴───────────────┘\n",
       "</pre>\n"
      ],
      "text/plain": [
       "┏━━━━━━━━━━━━━━━━━━━━━━━━━━━━━━━━━┳━━━━━━━━━━━━━━━━━━━━━━━━┳━━━━━━━━━━━━━━━┓\n",
       "┃\u001b[1m \u001b[0m\u001b[1mLayer (type)                   \u001b[0m\u001b[1m \u001b[0m┃\u001b[1m \u001b[0m\u001b[1mOutput Shape          \u001b[0m\u001b[1m \u001b[0m┃\u001b[1m \u001b[0m\u001b[1m      Param #\u001b[0m\u001b[1m \u001b[0m┃\n",
       "┡━━━━━━━━━━━━━━━━━━━━━━━━━━━━━━━━━╇━━━━━━━━━━━━━━━━━━━━━━━━╇━━━━━━━━━━━━━━━┩\n",
       "│ conv2d_2 (\u001b[38;5;33mConv2D\u001b[0m)               │ (\u001b[38;5;45mNone\u001b[0m, \u001b[38;5;34m26\u001b[0m, \u001b[38;5;34m26\u001b[0m, \u001b[38;5;34m32\u001b[0m)     │           \u001b[38;5;34m320\u001b[0m │\n",
       "├─────────────────────────────────┼────────────────────────┼───────────────┤\n",
       "│ batch_normalization_2           │ (\u001b[38;5;45mNone\u001b[0m, \u001b[38;5;34m26\u001b[0m, \u001b[38;5;34m26\u001b[0m, \u001b[38;5;34m32\u001b[0m)     │           \u001b[38;5;34m128\u001b[0m │\n",
       "│ (\u001b[38;5;33mBatchNormalization\u001b[0m)            │                        │               │\n",
       "├─────────────────────────────────┼────────────────────────┼───────────────┤\n",
       "│ last_conv (\u001b[38;5;33mConv2D\u001b[0m)              │ (\u001b[38;5;45mNone\u001b[0m, \u001b[38;5;34m24\u001b[0m, \u001b[38;5;34m24\u001b[0m, \u001b[38;5;34m64\u001b[0m)     │        \u001b[38;5;34m18,496\u001b[0m │\n",
       "├─────────────────────────────────┼────────────────────────┼───────────────┤\n",
       "│ avgpool (\u001b[38;5;33mAveragePooling2D\u001b[0m)      │ (\u001b[38;5;45mNone\u001b[0m, \u001b[38;5;34m12\u001b[0m, \u001b[38;5;34m12\u001b[0m, \u001b[38;5;34m64\u001b[0m)     │             \u001b[38;5;34m0\u001b[0m │\n",
       "├─────────────────────────────────┼────────────────────────┼───────────────┤\n",
       "│ flatten (\u001b[38;5;33mFlatten\u001b[0m)               │ (\u001b[38;5;45mNone\u001b[0m, \u001b[38;5;34m9216\u001b[0m)           │             \u001b[38;5;34m0\u001b[0m │\n",
       "├─────────────────────────────────┼────────────────────────┼───────────────┤\n",
       "│ dropout (\u001b[38;5;33mDropout\u001b[0m)               │ (\u001b[38;5;45mNone\u001b[0m, \u001b[38;5;34m9216\u001b[0m)           │             \u001b[38;5;34m0\u001b[0m │\n",
       "├─────────────────────────────────┼────────────────────────┼───────────────┤\n",
       "│ dense (\u001b[38;5;33mDense\u001b[0m)                   │ (\u001b[38;5;45mNone\u001b[0m, \u001b[38;5;34m10\u001b[0m)             │        \u001b[38;5;34m92,170\u001b[0m │\n",
       "├─────────────────────────────────┼────────────────────────┼───────────────┤\n",
       "│ softmax (\u001b[38;5;33mActivation\u001b[0m)            │ (\u001b[38;5;45mNone\u001b[0m, \u001b[38;5;34m10\u001b[0m)             │             \u001b[38;5;34m0\u001b[0m │\n",
       "└─────────────────────────────────┴────────────────────────┴───────────────┘\n"
      ]
     },
     "metadata": {},
     "output_type": "display_data"
    },
    {
     "data": {
      "text/html": [
       "<pre style=\"white-space:pre;overflow-x:auto;line-height:normal;font-family:Menlo,'DejaVu Sans Mono',consolas,'Courier New',monospace\"><span style=\"font-weight: bold\"> Total params: </span><span style=\"color: #00af00; text-decoration-color: #00af00\">111,114</span> (434.04 KB)\n",
       "</pre>\n"
      ],
      "text/plain": [
       "\u001b[1m Total params: \u001b[0m\u001b[38;5;34m111,114\u001b[0m (434.04 KB)\n"
      ]
     },
     "metadata": {},
     "output_type": "display_data"
    },
    {
     "data": {
      "text/html": [
       "<pre style=\"white-space:pre;overflow-x:auto;line-height:normal;font-family:Menlo,'DejaVu Sans Mono',consolas,'Courier New',monospace\"><span style=\"font-weight: bold\"> Trainable params: </span><span style=\"color: #00af00; text-decoration-color: #00af00\">111,050</span> (433.79 KB)\n",
       "</pre>\n"
      ],
      "text/plain": [
       "\u001b[1m Trainable params: \u001b[0m\u001b[38;5;34m111,050\u001b[0m (433.79 KB)\n"
      ]
     },
     "metadata": {},
     "output_type": "display_data"
    },
    {
     "data": {
      "text/html": [
       "<pre style=\"white-space:pre;overflow-x:auto;line-height:normal;font-family:Menlo,'DejaVu Sans Mono',consolas,'Courier New',monospace\"><span style=\"font-weight: bold\"> Non-trainable params: </span><span style=\"color: #00af00; text-decoration-color: #00af00\">64</span> (256.00 B)\n",
       "</pre>\n"
      ],
      "text/plain": [
       "\u001b[1m Non-trainable params: \u001b[0m\u001b[38;5;34m64\u001b[0m (256.00 B)\n"
      ]
     },
     "metadata": {},
     "output_type": "display_data"
    }
   ],
   "source": [
    "model = keras.Sequential(\n",
    "    [\n",
    "        keras.Input(shape=input_shape),\n",
    "        layers.Conv2D(32, kernel_size=(3, 3), activation=\"relu\"),\n",
    "        layers.BatchNormalization(),\n",
    "        layers.Conv2D(64, kernel_size=(3, 3), activation=\"relu\", name = 'last_conv'), \n",
    "        layers.AveragePooling2D(pool_size=(2, 2), name = 'avgpool'),\n",
    "        layers.Flatten(name = 'flatten'),\n",
    "        layers.Dropout(0.5, name = 'dropout'),\n",
    "        layers.Dense(num_classes, name = 'dense'),\n",
    "        layers.Activation('softmax', name = 'softmax')\n",
    "    ],\n",
    "    name='model'\n",
    ")\n",
    "\n",
    "model.summary()"
   ]
  },
  {
   "cell_type": "markdown",
   "id": "cff4a262-d1a9-49e1-b165-22b92e696268",
   "metadata": {},
   "source": [
    "### The learning and the checking of the results of the prediction"
   ]
  },
  {
   "cell_type": "code",
   "execution_count": 9,
   "id": "93474f1c-a8df-4658-9160-bc52e94b5397",
   "metadata": {},
   "outputs": [
    {
     "name": "stdout",
     "output_type": "stream",
     "text": [
      "Epoch 1/14\n"
     ]
    },
    {
     "name": "stderr",
     "output_type": "stream",
     "text": [
      "2024-12-31 18:59:23.119185: W external/local_tsl/tsl/framework/cpu_allocator_impl.cc:83] Allocation of 169344000 exceeds 10% of free system memory.\n"
     ]
    },
    {
     "name": "stdout",
     "output_type": "stream",
     "text": [
      "\u001b[1m422/422\u001b[0m \u001b[32m━━━━━━━━━━━━━━━━━━━━\u001b[0m\u001b[37m\u001b[0m \u001b[1m57s\u001b[0m 133ms/step - accuracy: 0.8910 - loss: 0.3464 - val_accuracy: 0.9840 - val_loss: 0.2051\n",
      "Epoch 2/14\n",
      "\u001b[1m422/422\u001b[0m \u001b[32m━━━━━━━━━━━━━━━━━━━━\u001b[0m\u001b[37m\u001b[0m \u001b[1m56s\u001b[0m 133ms/step - accuracy: 0.9782 - loss: 0.0718 - val_accuracy: 0.9870 - val_loss: 0.0471\n",
      "Epoch 3/14\n",
      "\u001b[1m422/422\u001b[0m \u001b[32m━━━━━━━━━━━━━━━━━━━━\u001b[0m\u001b[37m\u001b[0m \u001b[1m62s\u001b[0m 146ms/step - accuracy: 0.9844 - loss: 0.0505 - val_accuracy: 0.9842 - val_loss: 0.0606\n",
      "Epoch 4/14\n",
      "\u001b[1m422/422\u001b[0m \u001b[32m━━━━━━━━━━━━━━━━━━━━\u001b[0m\u001b[37m\u001b[0m \u001b[1m53s\u001b[0m 125ms/step - accuracy: 0.9846 - loss: 0.0457 - val_accuracy: 0.9883 - val_loss: 0.0475\n",
      "Epoch 5/14\n",
      "\u001b[1m422/422\u001b[0m \u001b[32m━━━━━━━━━━━━━━━━━━━━\u001b[0m\u001b[37m\u001b[0m \u001b[1m48s\u001b[0m 114ms/step - accuracy: 0.9877 - loss: 0.0388 - val_accuracy: 0.9882 - val_loss: 0.0442\n",
      "Epoch 6/14\n",
      "\u001b[1m422/422\u001b[0m \u001b[32m━━━━━━━━━━━━━━━━━━━━\u001b[0m\u001b[37m\u001b[0m \u001b[1m51s\u001b[0m 120ms/step - accuracy: 0.9887 - loss: 0.0352 - val_accuracy: 0.9900 - val_loss: 0.0366\n",
      "Epoch 7/14\n",
      "\u001b[1m422/422\u001b[0m \u001b[32m━━━━━━━━━━━━━━━━━━━━\u001b[0m\u001b[37m\u001b[0m \u001b[1m57s\u001b[0m 134ms/step - accuracy: 0.9897 - loss: 0.0313 - val_accuracy: 0.9893 - val_loss: 0.0421\n",
      "Epoch 8/14\n",
      "\u001b[1m422/422\u001b[0m \u001b[32m━━━━━━━━━━━━━━━━━━━━\u001b[0m\u001b[37m\u001b[0m \u001b[1m62s\u001b[0m 147ms/step - accuracy: 0.9914 - loss: 0.0266 - val_accuracy: 0.9903 - val_loss: 0.0376\n",
      "Epoch 9/14\n",
      "\u001b[1m422/422\u001b[0m \u001b[32m━━━━━━━━━━━━━━━━━━━━\u001b[0m\u001b[37m\u001b[0m \u001b[1m54s\u001b[0m 128ms/step - accuracy: 0.9913 - loss: 0.0254 - val_accuracy: 0.9892 - val_loss: 0.0418\n",
      "Epoch 10/14\n",
      "\u001b[1m422/422\u001b[0m \u001b[32m━━━━━━━━━━━━━━━━━━━━\u001b[0m\u001b[37m\u001b[0m \u001b[1m52s\u001b[0m 124ms/step - accuracy: 0.9933 - loss: 0.0204 - val_accuracy: 0.9890 - val_loss: 0.0421\n",
      "Epoch 11/14\n",
      "\u001b[1m422/422\u001b[0m \u001b[32m━━━━━━━━━━━━━━━━━━━━\u001b[0m\u001b[37m\u001b[0m \u001b[1m55s\u001b[0m 129ms/step - accuracy: 0.9926 - loss: 0.0213 - val_accuracy: 0.9905 - val_loss: 0.0397\n",
      "Epoch 12/14\n",
      "\u001b[1m422/422\u001b[0m \u001b[32m━━━━━━━━━━━━━━━━━━━━\u001b[0m\u001b[37m\u001b[0m \u001b[1m52s\u001b[0m 123ms/step - accuracy: 0.9934 - loss: 0.0200 - val_accuracy: 0.9903 - val_loss: 0.0455\n",
      "Epoch 13/14\n",
      "\u001b[1m422/422\u001b[0m \u001b[32m━━━━━━━━━━━━━━━━━━━━\u001b[0m\u001b[37m\u001b[0m \u001b[1m51s\u001b[0m 121ms/step - accuracy: 0.9937 - loss: 0.0171 - val_accuracy: 0.9908 - val_loss: 0.0375\n",
      "Epoch 14/14\n",
      "\u001b[1m422/422\u001b[0m \u001b[32m━━━━━━━━━━━━━━━━━━━━\u001b[0m\u001b[37m\u001b[0m \u001b[1m53s\u001b[0m 125ms/step - accuracy: 0.9939 - loss: 0.0171 - val_accuracy: 0.9928 - val_loss: 0.0376\n"
     ]
    }
   ],
   "source": [
    "batch_size = 128\n",
    "epochs = 14\n",
    "\n",
    "model.compile(loss=\"categorical_crossentropy\", optimizer=\"adam\", metrics=[\"accuracy\"])\n",
    "\n",
    "history = model.fit(x_train, y_train, batch_size=batch_size, epochs=epochs, validation_split=0.1)"
   ]
  },
  {
   "cell_type": "code",
   "execution_count": 10,
   "id": "099e5bf0",
   "metadata": {},
   "outputs": [
    {
     "name": "stdout",
     "output_type": "stream",
     "text": [
      "Test loss: 0.03299298509955406\n",
      "Test accuracy: 0.9904000163078308\n"
     ]
    }
   ],
   "source": [
    "#results of the model\n",
    "score = model.evaluate(x_test, y_test, verbose=0)\n",
    "print(\"Test loss:\", score[0])\n",
    "print(\"Test accuracy:\", score[1])"
   ]
  },
  {
   "cell_type": "code",
   "execution_count": 11,
   "id": "2c7fb0b8-2705-4821-b892-ba5f6ecacad3",
   "metadata": {},
   "outputs": [],
   "source": [
    "model.save(\"basic_model.keras\")"
   ]
  },
  {
   "cell_type": "code",
   "execution_count": 12,
   "id": "47b90a38-923e-4dbb-b288-0f0cafaab5db",
   "metadata": {},
   "outputs": [],
   "source": [
    "#we keep the additional model instance, but it is not neccessary\n",
    "model2 = keras.models.load_model(\"basic_model.keras\")"
   ]
  },
  {
   "cell_type": "code",
   "execution_count": 13,
   "id": "2883e37f-4719-4aaa-af9f-06e9a68969f0",
   "metadata": {},
   "outputs": [
    {
     "data": {
      "image/png": "[encoded data removed]",
      "text/plain": [
       "<Figure size 480x480 with 1 Axes>"
      ]
     },
     "metadata": {},
     "output_type": "display_data"
    },
    {
     "name": "stdout",
     "output_type": "stream",
     "text": [
      "\u001b[1m313/313\u001b[0m \u001b[32m━━━━━━━━━━━━━━━━━━━━\u001b[0m\u001b[37m\u001b[0m \u001b[1m2s\u001b[0m 7ms/step\n",
      "The result is  7\n"
     ]
    }
   ],
   "source": [
    "plt.matshow(x_test[0], cmap='gray')\n",
    "plt.show()\n",
    "data = model.predict(x_test)\n",
    "print('The result is ', np.argmax(data[0]))"
   ]
  },
  {
   "cell_type": "markdown",
   "id": "f0cd8c68-d81a-45cd-b491-2d29ef5f8ed8",
   "metadata": {},
   "source": [
    "## CAM XAI Technic"
   ]
  },
  {
   "cell_type": "code",
   "execution_count": 14,
   "id": "141adc06",
   "metadata": {},
   "outputs": [],
   "source": [
    "class heatmap_creator():\n",
    "    \"\"\" The Grad-CAM heatmap creator class\n",
    "    \"\"\"    \n",
    "    \n",
    "    \n",
    "    def __init__(self, model: keras.Sequential, last_conv_layer_name: str, \\\n",
    "        classifier_layer_names: List[str] = ['max_pooling2d_1', 'flatten', 'dropout', 'dense', 'softmax']):\n",
    "        \"\"\" Initial class obtaining the layers from the CNN model\n",
    "\n",
    "        Args:\n",
    "            model (keras.Sequential): The model\n",
    "            last_conv_layer_name (str): The name of the last convolutional layer\n",
    "            classifier_layer_names (List[str], optional): The list of names of \\\n",
    "                the layers after the last convolutiona layer. \\\n",
    "                    Defaults to ['max_pooling2d_1', 'flatten', 'dropout', 'dense', 'softmax'].\n",
    "        \"\"\"\n",
    "        \n",
    "        #we create the two models, self.last_conv_layer will provide us the necessary\n",
    "        #last_conv_feature map  \n",
    "        last_conv_layer = model.get_layer((last_conv_layer_name))\n",
    "        self.last_conv_layer_model = keras.Model(model.inputs, last_conv_layer.output)\n",
    "        \n",
    "        #the classifier_model input will provide us score\n",
    "        classifier_input = keras.Input(shape=last_conv_layer.output.shape[1:])\n",
    "        layer = classifier_input\n",
    "        for layer_name in classifier_layer_names:\n",
    "            layer = model.get_layer(layer_name)(layer)\n",
    "        self.classifier_model = keras.Model(classifier_input, layer)\n",
    "    \n",
    "    def preparing_image(self, img) -> numpy.ndarray:\n",
    "        \"\"\"Check if the image is in the right format\n",
    "        \"\"\"        \n",
    "\n",
    "        if type(img) != numpy.ndarray:\n",
    "            try:\n",
    "                img = keras.preprocessing.image.img_to_array(img)\n",
    "            except:\n",
    "                print(\"The input should be a numpy.ndarray\")\n",
    "        img = np.expand_dims(img, axis = 0)\n",
    "        \n",
    "        return img\n",
    "    \n",
    "    def create_heatmap(self, img: numpy.ndarray) -> numpy.ndarray:\n",
    "        \"\"\"Creates the heatmap numpy.ndarray. The main implementation of the Grad-CAM algorithm\n",
    "        \"\"\"\n",
    "        #the code computes gradients of the score for feature maps\n",
    "        #of the last_conv_layer\n",
    "        with tf.GradientTape() as tape:\n",
    "            \n",
    "            last_conv_layer_output = self.last_conv_layer_model(img)\n",
    "            tape.watch(last_conv_layer_output)\n",
    "            predictions = self.classifier_model(last_conv_layer_output)\n",
    "            score_index = tf.argmax(predictions[0])\n",
    "            scores = predictions[:, score_index]\n",
    "            \n",
    "        gradients = tape.gradient(scores, last_conv_layer_output)\n",
    "        weights = tf.reduce_mean(gradients, axis = (0,1,2))\n",
    "        \n",
    "        \n",
    "        #the implementation of the second equation\n",
    "        #the feature maps are multiplied by the weights\n",
    "        last_conv_layer_output = last_conv_layer_output.numpy()[0]\n",
    "        weights = weights.numpy()\n",
    "        for i in range(weights.shape[-1]):\n",
    "            last_conv_layer_output[:,:,i] *= weights[i]\n",
    "            \n",
    "            \n",
    "        #finally we create a heatmap, using the neuron activity map\n",
    "        #by normalizing it and replacing negative places for zero\n",
    "        heatmap = np.mean(last_conv_layer_output, axis = -1)\n",
    "        heatmap = np.maximum(heatmap, 0)/np.max(heatmap)\n",
    "        \n",
    "        return heatmap\n",
    "    \n",
    "    def create_visualization(self, img) -> None:\n",
    "        '''Create the visualization for the image and its heatmap\n",
    "        '''\n",
    "        \n",
    "        #preparing the image and heatmap\n",
    "        img = self.preparing_image(img)\n",
    "        heatmap = self.create_heatmap(img)\n",
    "        img = np.squeeze(img, axis = 0)\n",
    "        \n",
    "        heatmap = np.uint8(255 * heatmap)\n",
    "        img = np.uint8(255 * img)\n",
    "        jet = mpl.colormaps[\"jet\"]\n",
    "        jet_colors = jet(np.arange(256))[:, :3]\n",
    "        jet_heatmap = jet_colors[heatmap]\n",
    "        \n",
    "        #rescalling the image\n",
    "        jet_heatmap = keras.preprocessing.image.array_to_img(jet_heatmap)\n",
    "        jet_heatmap = jet_heatmap.resize((img.shape[1], img.shape[0]))\n",
    "        jet_heatmap = keras.preprocessing.image.img_to_array(jet_heatmap)\n",
    "        \n",
    "        #merging the original image with the heatmap\n",
    "        sup_img = jet_heatmap * 0.5 + img\n",
    "        sup_img = keras.preprocessing.image.array_to_img(sup_img)\n",
    "        \n",
    "        plt.matshow(sup_img)\n",
    "        plt.matshow(img, cmap = 'binary')\n",
    "        plt.matshow(heatmap)\n",
    "        plt.show()"
   ]
  },
  {
   "cell_type": "markdown",
   "id": "a1f7c341",
   "metadata": {},
   "source": [
    "## Testing the XAI"
   ]
  },
  {
   "cell_type": "code",
   "execution_count": 15,
   "id": "f34b6213-9f1a-4274-85e5-239073aeea11",
   "metadata": {},
   "outputs": [
    {
     "data": {
      "image/png": "[encoded data removed]",
      "text/plain": [
       "<Figure size 480x480 with 1 Axes>"
      ]
     },
     "metadata": {},
     "output_type": "display_data"
    },
    {
     "data": {
      "image/png": "[encoded data removed]",
      "text/plain": [
       "<Figure size 480x480 with 1 Axes>"
      ]
     },
     "metadata": {},
     "output_type": "display_data"
    },
    {
     "data": {
      "image/png": "[encoded data removed]",
      "text/plain": [
       "<Figure size 480x480 with 1 Axes>"
      ]
     },
     "metadata": {},
     "output_type": "display_data"
    }
   ],
   "source": [
    "#we have to provide to the function the names of the layers after the last convolutional layer\n",
    "heat = heatmap_creator(model2, 'last_conv', ['avgpool', 'flatten', 'dropout', 'dense', 'softmax'])\n",
    "heatmap = heat.create_visualization(x_test[4])"
   ]
  },
  {
   "cell_type": "code",
   "execution_count": null,
   "id": "dec4114f-feae-4243-84e6-2e1368ccea35",
   "metadata": {},
   "outputs": [],
   "source": []
  }
 ],
 "metadata": {
  "kernelspec": {
   "display_name": "Python 3 (ipykernel)",
   "language": "python",
   "name": "python3"
  },
  "language_info": {
   "codemirror_mode": {
    "name": "ipython",
    "version": 3
   },
   "file_extension": ".py",
   "mimetype": "text/x-python",
   "name": "python",
   "nbconvert_exporter": "python",
   "pygments_lexer": "ipython3",
   "version": "3.11.9"
  }
 },
 "nbformat": 4,
 "nbformat_minor": 5
}
